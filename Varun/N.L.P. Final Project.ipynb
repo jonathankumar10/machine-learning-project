{
 "cells": [
  {
   "cell_type": "markdown",
   "metadata": {},
   "source": [
    "# NLP Final Project\n",
    "## Topic\n",
    "Create an NLP based model to understand the polarity of review and estimate a rating based on the review provided to a movie. Post we train a model to identify the polarity of review we will try to create a regression or classification model to map the review to a rating from range of 1-10."
   ]
  },
  {
   "cell_type": "markdown",
   "metadata": {},
   "source": [
    "## Loading and formating of input data (Step 0)"
   ]
  },
  {
   "cell_type": "code",
   "execution_count": 1,
   "metadata": {
    "scrolled": true
   },
   "outputs": [],
   "source": [
    "# import os\n",
    "# import shutil\n",
    "# import glob\n",
    "\n",
    "# # creating new folders for sorting the ratings\n",
    "# for i in range(1,11):\n",
    "#     try:\n",
    "#         os.mkdir(f'./Cleaned_dataset/ratings_' + str(i))\n",
    "#     except:\n",
    "#         files = glob.glob('./Cleaned_dataset/ratings_' + str(i)+'/*')\n",
    "#         os.remove(files)\n",
    "\n",
    "# # filtering and copying negative reviews\n",
    "# neg_path = './Project Dataset/aclImdb/train/neg/'\n",
    "# neg_files = os.listdir(neg_path)\n",
    "# flip = False\n",
    "# for file_name in neg_files:\n",
    "#     try:\n",
    "#         # copying review to their respective rating folder\n",
    "#         rating = file_name.split('_')[1].split('.')[0]\n",
    "#         if rating == '4':\n",
    "#             if(not flip):\n",
    "#                 shutil.copy2(neg_path + file_name,'./Cleaned_dataset/ratings_4/'+ file_name)\n",
    "#                 flip = True\n",
    "#             else:\n",
    "#                 shutil.copy2(neg_path + file_name,'./Cleaned_dataset/ratings_5/'+ file_name)\n",
    "#                 flip = False\n",
    "#         else:\n",
    "#             shutil.copy2(neg_path + file_name,'./Cleaned_dataset/ratings_' + rating +'/' + file_name)\n",
    "#     except:\n",
    "#         print(neg_path + file_name)\n",
    "        \n",
    "# # filtering and copying positive reviews\n",
    "# pos_path = './Project Dataset/aclImdb/train/pos/'\n",
    "# pos_files = os.listdir(pos_path)\n",
    "# flip = False\n",
    "# for file_name in pos_files:\n",
    "#     try:\n",
    "#         # copying review to their respective rating folder\n",
    "#         rating = file_name.split('_')[1].split('.')[0]\n",
    "#         if rating == '7':\n",
    "#             if(not flip):\n",
    "#                 shutil.copy2(pos_path + file_name,'./Cleaned_dataset/ratings_7/' + file_name)\n",
    "#                 flip = True\n",
    "#             else:\n",
    "#                 shutil.copy2(pos_path + file_name,'./Cleaned_dataset/ratings_6/' + file_name)\n",
    "#                 flip = False\n",
    "#         else:\n",
    "#             shutil.copy2(pos_path + file_name,'./Cleaned_dataset/ratings_' + rating + '/' + file_name)\n",
    "#     except:\n",
    "#         print(pos_path + file_name)"
   ]
  },
  {
   "cell_type": "markdown",
   "metadata": {},
   "source": [
    "## Load data in to data frames (Step 0)"
   ]
  },
  {
   "cell_type": "code",
   "execution_count": 9,
   "metadata": {},
   "outputs": [
    {
     "name": "stdout",
     "output_type": "stream",
     "text": [
      "  Rating                                             Review\n",
      "0      1  Sorry everyone,,, I know this is supposed to b...\n",
      "1      1  When I was little my parents took me along to ...\n",
      "2      1  This film is mediocre at best. Angie Harmon is...\n",
      "3      1  This film is one giant pant load. Paul Schrade...\n",
      "4      1  This movie must be in line for the most boring...\n",
      "5      1  A worn-out plot of a man who takes the rap for...\n",
      "6      1  Shame on Yash Raj films and Aditya Chopra who ...\n",
      "7      1  If this is a 2008 product from one of the bigg...\n",
      "8      1  The action in this movie beats Sunny bhai in G...\n",
      "9      1  I had no idea what the film is about before I ...\n",
      "Wall time: 1min 5s\n"
     ]
    }
   ],
   "source": [
    "# %%time\n",
    "# import pandas as pd\n",
    "# import os\n",
    "\n",
    "# data_set = pd.DataFrame(columns=['Rating','Review'])\n",
    "# ratings_folder_path = os.listdir('./Cleaned_dataset/')\n",
    "# if 'tokenized_words.csv' in ratings_folder_path:\n",
    "#     ratings_folder_path.remove('tokenized_words.csv')\n",
    "# if 'vectorized_words.csv' in ratings_folder_path:\n",
    "#     ratings_folder_path.remove('vectorized_words.csv')\n",
    "\n",
    "# for folder in ratings_folder_path:\n",
    "#     rating = folder.split('_')\n",
    "#     review_files = os.listdir('./Cleaned_dataset/' + folder + '/')\n",
    "#     for review in review_files:\n",
    "#         try:\n",
    "#             fp = open('./Cleaned_dataset/' + folder + '/' + review,'r')\n",
    "#             review_data = fp.read()\n",
    "#             rating_number = rating[1]\n",
    "#             data_set = data_set.append(pd.Series([rating_number,review_data], index=data_set.columns),ignore_index=True)\n",
    "#             fp.close()\n",
    "#         except:\n",
    "#             # try except to deal with error in file reading due to codec issues\n",
    "#             pass\n",
    "\n",
    "# print(data_set.head(10))"
   ]
  },
  {
   "cell_type": "markdown",
   "metadata": {},
   "source": [
    "## Pre-processing data_set (Step 0)\n",
    "### Removing punctuations, Stop words and Lemmatizing"
   ]
  },
  {
   "cell_type": "code",
   "execution_count": null,
   "metadata": {},
   "outputs": [],
   "source": [
    "# %%time\n",
    "# import nltk\n",
    "# # download wordnet if required\n",
    "# # nltk.download('wordnet')\n",
    "# # download stopwords if required\n",
    "# # nltk.download('stopwords')\n",
    "# # loading English stop words  \n",
    "# stop_words = nltk.corpus.stopwords.words('english')\n",
    "# import string\n",
    "# import re\n",
    "\n",
    "# # Basic cleaning\n",
    "# def cleanAndTokenize(review):\n",
    "#     # removing punctuations\n",
    "#     non_punc_words = \"\".join([character for character in review if character not in string.punctuation])\n",
    "    \n",
    "#     non_punc_words = non_punc_words.strip()\n",
    "    \n",
    "#     # tokenizing reviews\n",
    "#     list_of_token = re.split('\\W+',non_punc_words)\n",
    "    \n",
    "#     # removing stop words\n",
    "#     tokens = [word for word in list_of_token if word not in stop_words]\n",
    "    \n",
    "#     return tokens\n",
    "\n",
    "# # converting words to lower case.\n",
    "# data_set['Review'] = data_set['Review'].apply(lambda review : cleanAndTokenize(str(review).lower()))\n",
    "\n",
    "# # using nltk's wordnet lemmatizer\n",
    "# word_net_lemma = nltk.WordNetLemmatizer()\n",
    "\n",
    "# def lemmatize_data(token_list):\n",
    "#     tokens = [word_net_lemma.lemmatize(word) for word in token_list]\n",
    "#     return tokens\n",
    "\n",
    "# data_set['Review'] = data_set['Review'].apply(lambda review : lemmatize_data(review))\n",
    "\n",
    "# # un-comment to write data to file\n",
    "# # data_set.to_csv('./Cleaned_dataset/tokenized_words.csv',index = False, header=True)"
   ]
  },
  {
   "cell_type": "markdown",
   "metadata": {},
   "source": [
    "## Vectorizing reviews using TF-IDF. (Step 0)"
   ]
  },
  {
   "cell_type": "code",
   "execution_count": 1,
   "metadata": {},
   "outputs": [
    {
     "name": "stdout",
     "output_type": "stream",
     "text": [
      "   Rating                                             Review\n",
      "0       1  ['sorry', 'everyone', 'know', 'supposed', 'art...\n",
      "1       1  ['little', 'parent', 'took', 'along', 'theater...\n",
      "2       1  ['film', 'mediocre', 'best', 'angie', 'harmon'...\n",
      "3       1  ['film', 'one', 'giant', 'pant', 'load', 'paul...\n",
      "4       1  ['movie', 'must', 'line', 'boring', 'movie', '...\n",
      "     0   00  000  0000000000001  00001  00015  000s  001  003830  006  ...  \\\n",
      "0  0.0  0.0  0.0            0.0    0.0    0.0   0.0  0.0     0.0  0.0  ...   \n",
      "1  0.0  0.0  0.0            0.0    0.0    0.0   0.0  0.0     0.0  0.0  ...   \n",
      "2  0.0  0.0  0.0            0.0    0.0    0.0   0.0  0.0     0.0  0.0  ...   \n",
      "3  0.0  0.0  0.0            0.0    0.0    0.0   0.0  0.0     0.0  0.0  ...   \n",
      "4  0.0  0.0  0.0            0.0    0.0    0.0   0.0  0.0     0.0  0.0  ...   \n",
      "\n",
      "    âº   â½   â¾  âžiâžek    ã  ã¼ber  ãœvegtigris  ãšxtase    ï  œat  \n",
      "0  0.0  0.0  0.0      0.0  0.0    0.0          0.0      0.0  0.0  0.0  \n",
      "1  0.0  0.0  0.0      0.0  0.0    0.0          0.0      0.0  0.0  0.0  \n",
      "2  0.0  0.0  0.0      0.0  0.0    0.0          0.0      0.0  0.0  0.0  \n",
      "3  0.0  0.0  0.0      0.0  0.0    0.0          0.0      0.0  0.0  0.0  \n",
      "4  0.0  0.0  0.0      0.0  0.0    0.0          0.0      0.0  0.0  0.0  \n",
      "\n",
      "[5 rows x 67517 columns]\n",
      "Wall time: 4min 39s\n"
     ]
    }
   ],
   "source": [
    "# %%time\n",
    "# import pandas as pd\n",
    "# import pickle\n",
    "# from sklearn.feature_extraction.text import TfidfVectorizer\n",
    "# import string\n",
    "# import re\n",
    "# import nltk\n",
    "# # using nltk's wordnet lemmatizer\n",
    "# word_net_lemma = nltk.WordNetLemmatizer()\n",
    "\n",
    "# data_set = pd.read_csv('./Cleaned_dataset/tokenized_words.csv')\n",
    "\n",
    "# print(data_set.head())\n",
    "\n",
    "# def clean_review(review):\n",
    "#     non_punc_words = \"\".join([character for character in review if character not in string.punctuation])\n",
    "#     list_of_token = re.split('\\W+',non_punc_words)\n",
    "#     tokens = [word_net_lemma.lemmatize(word) for word in list_of_token]\n",
    "#     return tokens\n",
    "\n",
    "# tfidf_vectorize = TfidfVectorizer(analyzer=clean_review)\n",
    "# vectorized_review = tfidf_vectorize.fit_transform(data_set['Review'])\n",
    "\n",
    "# pickle.dump(tfidf_vectorize,open('./pickle_tfidf/tfidf.pickle','wb'))\n",
    "# vectorized_review_df = pd.DataFrame(vectorized_review.toarray())\n",
    "# vectorized_review_df.columns = tfidf_vectorize.get_feature_names()\n",
    "# print(vectorized_review_df.head())\n",
    "\n",
    "# pickle.dump(vectorized_review,open('./pickle_tfidf/vectorized_review.pickle','wb'))\n",
    "\n",
    "# # un-comment to write data to file\n",
    "# # data_set.to_csv('./Cleaned_dataset/vectorized_words.csv',index = False, header=True)"
   ]
  },
  {
   "cell_type": "markdown",
   "metadata": {},
   "source": [
    "# Load the TFIDF object (Step 1)"
   ]
  },
  {
   "cell_type": "code",
   "execution_count": 1,
   "metadata": {},
   "outputs": [
    {
     "name": "stdout",
     "output_type": "stream",
     "text": [
      "Wall time: 1min 54s\n"
     ]
    }
   ],
   "source": [
    "%%time\n",
    "import pickle\n",
    "import pandas as pd\n",
    "from sklearn.metrics.pairwise import euclidean_distances\n",
    "import re\n",
    "import numpy as np\n",
    "import string\n",
    "import re\n",
    "import nltk\n",
    "# using nltk's wordnet lemmatizer\n",
    "word_net_lemma = nltk.WordNetLemmatizer()\n",
    "\n",
    "# this method is repeated because it doesn't get pickled with the tfidf object \n",
    "def clean_review(review):\n",
    "    non_punc_words = \"\".join([character for character in review if character not in string.punctuation])\n",
    "    list_of_token = re.split('\\W+',non_punc_words)\n",
    "    tokens = [word_net_lemma.lemmatize(word) for word in list_of_token]\n",
    "    return tokens\n",
    "\n",
    "class_data = pd.read_csv('./Cleaned_dataset/tokenized_words.csv',usecols = ['Rating'])\n",
    "\n",
    "tfidf_object = pickle.load(open('./pickle_tfidf/tfidf.pickle','rb'))\n",
    "vectorized_review_obj = pickle.load(open('./pickle_tfidf/vectorized_review.pickle','rb'))"
   ]
  },
  {
   "cell_type": "markdown",
   "metadata": {},
   "source": [
    "## Predict a rating for review (Step 2)"
   ]
  },
  {
   "cell_type": "code",
   "execution_count": 4,
   "metadata": {
    "scrolled": true
   },
   "outputs": [
    {
     "name": "stdout",
     "output_type": "stream",
     "text": [
      "worst movie ever\n"
     ]
    }
   ],
   "source": [
    "# Run this cell to enter a new review, post entering the review hit enter to stop taking input.\n",
    "review_input = input()"
   ]
  },
  {
   "cell_type": "code",
   "execution_count": 5,
   "metadata": {
    "scrolled": true
   },
   "outputs": [
    {
     "name": "stdout",
     "output_type": "stream",
     "text": [
      "max count predicted rating:  1\n",
      "mean predicted rating:  1\n",
      "Wall time: 87.8 ms\n"
     ]
    }
   ],
   "source": [
    "%%time\n",
    "new_in = tfidf_object.transform([review_input])\n",
    "distances = euclidean_distances(vectorized_review_obj,new_in)\n",
    "dict_class_label = {1:0,2:0,3:0,4:0,5:0,6:0,7:0,8:0,9:0,10:0}\n",
    "\n",
    "distance_set = np.unique(distances)\n",
    "distance_set = sorted(distance_set)\n",
    "# selected after experimenting\n",
    "min_dist = distance_set[0:41]\n",
    "for k in min_dist:\n",
    "    list1 = np.where(distances == k)[0]\n",
    "    class_label,label_count = np.unique(class_data.loc[list1,:].values,return_counts = True)\n",
    "    for index,value in zip(class_label.tolist(),label_count.tolist()):\n",
    "        dict_class_label[index] += value\n",
    "print('max count predicted rating: ',max(dict_class_label, key=lambda key: dict_class_label[key]))\n",
    "\n",
    "distances = euclidean_distances(vectorized_review_obj,new_in)\n",
    "dict_class_label = {1:0,2:0,3:0,4:0,5:0,6:0,7:0,8:0,9:0,10:0}\n",
    "\n",
    "distance_set = np.unique(distances)\n",
    "distance_set = sorted(distance_set)\n",
    "# selected after experimenting\n",
    "min_dist = distance_set[0:3]\n",
    "for k in min_dist:\n",
    "    list1 = np.where(distances == k)[0]\n",
    "    class_label,label_count = np.unique(class_data.loc[list1,:].values,return_counts = True)\n",
    "    for index,value in zip(class_label.tolist(),label_count.tolist()):\n",
    "        dict_class_label[index] += value\n",
    "list_of_rating = [val for val in dict_class_label if dict_class_label[val] > 0]\n",
    "print('mean predicted rating: ',int(sum(list_of_rating)/len(list_of_rating)))"
   ]
  },
  {
   "cell_type": "markdown",
   "metadata": {},
   "source": [
    "# Performance testing"
   ]
  },
  {
   "cell_type": "code",
   "execution_count": 13,
   "metadata": {},
   "outputs": [
    {
     "data": {
      "image/png": "[encoded data removed]",
      "text/plain": [
       "<Figure size 1080x432 with 1 Axes>"
      ]
     },
     "metadata": {
      "needs_background": "light"
     },
     "output_type": "display_data"
    },
    {
     "name": "stdout",
     "output_type": "stream",
     "text": [
      "Wall time: 5h 26min 47s\n"
     ]
    }
   ],
   "source": [
    "%%time\n",
    "import os\n",
    "import matplotlib.pyplot as plt\n",
    "\n",
    "neg_path = './Project Dataset/aclImdb/test/neg/'\n",
    "neg_files = os.listdir(neg_path)\n",
    "\n",
    "pos_path = './Project Dataset/aclImdb/test/pos/'\n",
    "pos_files = os.listdir(pos_path)\n",
    "\n",
    "max_nn = 41\n",
    "plot_max = []\n",
    "plot_mean = []\n",
    "\n",
    "for nearest_negihbor in range(1,max_nn):\n",
    "    max_predicted_rating_arr = []\n",
    "    mean_predicted_rating_arr = []\n",
    "    actual_rating_arr = []\n",
    "    \n",
    "    for file_name in pos_files:\n",
    "        try:\n",
    "            fp = open('./Project Dataset/aclImdb/test/pos/'+file_name,'r')\n",
    "            actual_rating = int(file_name.split('_')[1].split('.')[0])\n",
    "            test_review = fp.read() \n",
    "            new_in = tfidf_object.transform([test_review])\n",
    "            distances = euclidean_distances(vectorized_review_obj,new_in)\n",
    "            dict_class_label = {1:0,2:0,3:0,4:0,5:0,6:0,7:0,8:0,9:0,10:0}\n",
    "\n",
    "            distance_set = np.unique(distances)\n",
    "            distance_set = sorted(distance_set)\n",
    "            min_dist = distance_set[0:nearest_negihbor]\n",
    "            for k in min_dist:\n",
    "                list1 = np.where(distances == k)[0]\n",
    "                class_label,label_count = np.unique(class_data.loc[list1,:].values,return_counts = True)\n",
    "                for index,value in zip(class_label.tolist(),label_count.tolist()):\n",
    "                    dict_class_label[index] += value\n",
    "            actual_rating_arr.append(actual_rating)\n",
    "            max_predicted_rating_arr.append(max(dict_class_label, key=lambda key: dict_class_label[key]))\n",
    "\n",
    "            list_of_rating = [val for val in dict_class_label if dict_class_label[val] > 0]\n",
    "            mean_predicted_rating_arr.append(int(sum(list_of_rating)/len(list_of_rating)))\n",
    "\n",
    "            del fp\n",
    "        except Exception:\n",
    "            pass\n",
    "\n",
    "    MSE = pd.DataFrame(columns = ['max_predicted_rating_arr','mean_predicted_rating_arr','actual_rating_arr'])\n",
    "    MSE['actual_rating_arr'] = actual_rating_arr\n",
    "    MSE['max_predicted_rating_arr'] = max_predicted_rating_arr\n",
    "    MSE['mean_predicted_rating_arr'] = mean_predicted_rating_arr\n",
    "    mean_squared_error_max = np.square(np.subtract(MSE['actual_rating_arr'],MSE['max_predicted_rating_arr'])).mean()\n",
    "    mean_squared_error_mean = np.square(np.subtract(MSE['actual_rating_arr'],MSE['mean_predicted_rating_arr'])).mean()\n",
    "    plot_max.append(mean_squared_error_max)\n",
    "    plot_mean.append(mean_squared_error_mean)\n",
    "    \n",
    "# Plot the mean v/s max values\n",
    "plt.figure(figsize=(15,6))\n",
    "plt.plot(list(range(1, max_nn)),plot_max,'b-o', label = 'MAX nearest neighbors')\n",
    "plt.plot(list(range(1, max_nn)),plot_mean,'r-o', label = 'MEAN nearest neighbors')\n",
    "plt.legend(loc='upper right')\n",
    "plt.xlabel('number of nearest neighbors')\n",
    "plt.ylabel('M.S.E')\n",
    "plt.xticks(list(range(1, max_nn)))\n",
    "plt.grid()\n",
    "plt.show()"
   ]
  },
  {
   "cell_type": "markdown",
   "metadata": {},
   "source": [
    "# Cosine and count vectorization testing."
   ]
  },
  {
   "cell_type": "code",
   "execution_count": 24,
   "metadata": {},
   "outputs": [
    {
     "name": "stdout",
     "output_type": "stream",
     "text": [
      "bad movie\n"
     ]
    }
   ],
   "source": [
    "# Run this cell to enter a new review, post entering the review hit enter to stop taking input.\n",
    "input_review = input()"
   ]
  },
  {
   "cell_type": "code",
   "execution_count": 26,
   "metadata": {},
   "outputs": [
    {
     "name": "stdout",
     "output_type": "stream",
     "text": [
      "max count predicted rating:  1\n",
      "mean predicted rating:  1\n",
      "Wall time: 5.2 s\n"
     ]
    }
   ],
   "source": [
    "%%time\n",
    "from sklearn.feature_extraction.text import CountVectorizer\n",
    "from sklearn.metrics.pairwise import cosine_distances\n",
    "import numpy as np\n",
    "\n",
    "vectorizer_obj = CountVectorizer()#analyzer='word', ngram_range=(2, 2))\n",
    "count_vector_obj = vectorizer_obj.fit_transform(data_set['Review'])\n",
    "\n",
    "class_data = pd.DataFrame(data_set['Rating'],dtype='int')\n",
    "\n",
    "\n",
    "input_count_obj = vectorizer_obj.transform([input_review])\n",
    "\n",
    "cosine_distance_list = cosine_distances(count_vector_obj,input_count_obj)\n",
    "\n",
    "dict_class_label = {1:0,2:0,3:0,4:0,5:0,6:0,7:0,8:0,9:0,10:0}\n",
    "\n",
    "distance_set = np.unique(cosine_distance_list)\n",
    "distance_set = sorted(distance_set)\n",
    "min_dist = distance_set[0:1]\n",
    "for k in min_dist:\n",
    "    list1 = np.where(cosine_distance_list == k)[0]\n",
    "    class_label,label_count = np.unique(class_data.loc[list1,:].values,return_counts = True)\n",
    "    for index,value in zip(class_label.tolist(),label_count.tolist()):\n",
    "        dict_class_label[index] += value\n",
    "print('max count predicted rating: ',max(dict_class_label, key=lambda key: dict_class_label[key]))\n",
    "\n",
    "list_of_rating = [val for val in dict_class_label if dict_class_label[val] > 0]\n",
    "print('mean predicted rating: ',int(sum(list_of_rating)/len(list_of_rating)))"
   ]
  }
 ],
 "metadata": {
  "kernelspec": {
   "display_name": "Python 3",
   "language": "python",
   "name": "python3"
  },
  "language_info": {
   "codemirror_mode": {
    "name": "ipython",
    "version": 3
   },
   "file_extension": ".py",
   "mimetype": "text/x-python",
   "name": "python",
   "nbconvert_exporter": "python",
   "pygments_lexer": "ipython3",
   "version": "3.8.3"
  }
 },
 "nbformat": 4,
 "nbformat_minor": 4
}
