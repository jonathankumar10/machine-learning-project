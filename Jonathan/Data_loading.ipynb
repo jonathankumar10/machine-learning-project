{
 "cells": [
  {
   "cell_type": "code",
   "execution_count": 19,
   "metadata": {},
   "outputs": [],
   "source": [
    "import os\n",
    "import shutil"
   ]
  },
  {
   "cell_type": "markdown",
   "metadata": {},
   "source": [
    "For Training dataset"
   ]
  },
  {
   "cell_type": "code",
   "execution_count": 23,
   "metadata": {},
   "outputs": [],
   "source": [
    "path = 'train_dataset/'\n",
    "name = os.listdir(path)\n",
    "folder_name = ['1','2','3','4','5','6','7','8','9','10']"
   ]
  },
  {
   "cell_type": "markdown",
   "metadata": {},
   "source": [
    "Creating a folder for all of the reviews based on it's rating from 1 to 10 for training dataset."
   ]
  },
  {
   "cell_type": "code",
   "execution_count": 25,
   "metadata": {},
   "outputs": [],
   "source": [
    "for x in range(0,10):\n",
    "    if not os.path.exists(path +folder_name[x]):\n",
    "        os.makedirs(path+folder_name[x])"
   ]
  },
  {
   "cell_type": "markdown",
   "metadata": {},
   "source": [
    "Sorting each text file into a directory according to it's review rating for training dataset."
   ]
  },
  {
   "cell_type": "code",
   "execution_count": 29,
   "metadata": {},
   "outputs": [],
   "source": [
    "for file in name:\n",
    "    if \"*_1.txt\" in file and not os.path.exists(path +'1/' +file):\n",
    "        shutil.move(path+file, path +'1/' +file)\n",
    "    if \"*_2.txt\" in file and not os.path.exists(path +'2/' +file):\n",
    "        shutil.move(path+file, path +'2/' +file)\n",
    "    if \"*_3.txt\" in file and not os.path.exists(path +'3/' +file):\n",
    "        shutil.move(path+file, path +'3/' +file)\n",
    "    if \"*_4.txt\" in file and not os.path.exists(path +'4/' +file):\n",
    "        shutil.move(path+file, path +'4/' +file)\n",
    "    if \"*_5.txt\" in file and not os.path.exists(path +'5/' +file):\n",
    "        shutil.move(path+file, path +'5/' +file)\n",
    "    if \"*_6.txt\" in file and not os.path.exists(path +'6/' +file):\n",
    "        shutil.move(path+file, path +'6/' +file)\n",
    "    if \"*_7.txt\" in file and not os.path.exists(path +'7/' +file):\n",
    "        shutil.move(path+file, path +'7/' +file)\n",
    "    if \"*_8.txt\" in file and not os.path.exists(path +'8/' +file):\n",
    "        shutil.move(path+file, path +'8/' +file)\n",
    "    if \"*_9.txt\" in file and not os.path.exists(path +'9/' +file):\n",
    "        shutil.move(path+file, path +'9/' +file)\n",
    "    if \"*_10.txt\" in file and not os.path.exists(path +'10/' +file):\n",
    "        shutil.move(path+file, path +'10/' +file)"
   ]
  },
  {
   "cell_type": "markdown",
   "metadata": {},
   "source": [
    "For Testing dataset"
   ]
  },
  {
   "cell_type": "code",
   "execution_count": 30,
   "metadata": {},
   "outputs": [],
   "source": [
    "path = 'test_dataset/'\n",
    "name = os.listdir(path)\n",
    "folder_name = ['1','2','3','4','5','6','7','8','9','10']"
   ]
  },
  {
   "cell_type": "markdown",
   "metadata": {},
   "source": [
    "Creating a folder for all of the reviews based on it's rating from 1 to 10 for testing dataset."
   ]
  },
  {
   "cell_type": "code",
   "execution_count": 31,
   "metadata": {},
   "outputs": [],
   "source": [
    "for x in range(0,10):\n",
    "    if not os.path.exists(path +folder_name[x]):\n",
    "        os.makedirs(path+folder_name[x])"
   ]
  },
  {
   "cell_type": "markdown",
   "metadata": {},
   "source": [
    "Sorting each text file into a directory according to it's review rating for training dataset."
   ]
  },
  {
   "cell_type": "code",
   "execution_count": 32,
   "metadata": {},
   "outputs": [],
   "source": [
    "for file in name:\n",
    "    if \"*_1.txt\" in file and not os.path.exists(path +'1/' +file):\n",
    "        shutil.move(path+file, path +'1/' +file)\n",
    "    if \"*_2.txt\" in file and not os.path.exists(path +'2/' +file):\n",
    "        shutil.move(path+file, path +'2/' +file)\n",
    "    if \"*_3.txt\" in file and not os.path.exists(path +'3/' +file):\n",
    "        shutil.move(path+file, path +'3/' +file)\n",
    "    if \"*_4.txt\" in file and not os.path.exists(path +'4/' +file):\n",
    "        shutil.move(path+file, path +'4/' +file)\n",
    "    if \"*_5.txt\" in file and not os.path.exists(path +'5/' +file):\n",
    "        shutil.move(path+file, path +'5/' +file)\n",
    "    if \"*_6.txt\" in file and not os.path.exists(path +'6/' +file):\n",
    "        shutil.move(path+file, path +'6/' +file)\n",
    "    if \"*_7.txt\" in file and not os.path.exists(path +'7/' +file):\n",
    "        shutil.move(path+file, path +'7/' +file)\n",
    "    if \"*_8.txt\" in file and not os.path.exists(path +'8/' +file):\n",
    "        shutil.move(path+file, path +'8/' +file)\n",
    "    if \"*_9.txt\" in file and not os.path.exists(path +'9/' +file):\n",
    "        shutil.move(path+file, path +'9/' +file)\n",
    "    if \"*_10.txt\" in file and not os.path.exists(path +'10/' +file):\n",
    "        shutil.move(path+file, path +'10/' +file)"
   ]
  }
 ],
 "metadata": {
  "kernelspec": {
   "display_name": "Python 3",
   "language": "python",
   "name": "python3"
  },
  "language_info": {
   "codemirror_mode": {
    "name": "ipython",
    "version": 3
   },
   "file_extension": ".py",
   "mimetype": "text/x-python",
   "name": "python",
   "nbconvert_exporter": "python",
   "pygments_lexer": "ipython3",
   "version": "3.8.3"
  }
 },
 "nbformat": 4,
 "nbformat_minor": 4
}
