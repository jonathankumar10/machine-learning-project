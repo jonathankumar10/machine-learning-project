{
 "cells": [
  {
   "cell_type": "code",
   "execution_count": 2,
   "metadata": {},
   "outputs": [],
   "source": [
    "import pandas as pd"
   ]
  },
  {
   "cell_type": "code",
   "execution_count": 37,
   "metadata": {},
   "outputs": [],
   "source": [
    "df1 = pd.read_csv('train_dataset/train_dataset_1.csv')\n",
    "df2 = pd.read_csv('train_dataset/train_dataset_2.csv')\n",
    "df3 = pd.read_csv('train_dataset/train_dataset_3.csv')\n",
    "df4 = pd.read_csv('train_dataset/train_dataset_4.csv')\n",
    "df5 = pd.read_csv('train_dataset/train_dataset_5.csv')\n",
    "df6 = pd.read_csv('train_dataset/train_dataset_6.csv')\n",
    "df7 = pd.read_csv('train_dataset/train_dataset_7.csv')\n",
    "df8 = pd.read_csv('train_dataset/train_dataset_8.csv')\n",
    "df9 = pd.read_csv('train_dataset/train_dataset_9.csv')\n",
    "df10 = pd.read_csv('train_dataset/train_dataset_10.csv')\n",
    "\n",
    "# df11 = pd.read_csv('test_dataset/test_dataset_1.csv')\n",
    "# df12 = pd.read_csv('test_dataset/test_dataset_2.csv')\n",
    "# df13 = pd.read_csv('test_dataset/test_dataset_3.csv')\n",
    "# df14 = pd.read_csv('test_dataset/test_dataset_4.csv')\n",
    "# df15 = pd.read_csv('test_dataset/test_dataset_5.csv')\n",
    "# df16 = pd.read_csv('test_dataset/test_dataset_6.csv')\n",
    "# df17 = pd.read_csv('test_dataset/test_dataset_7.csv')\n",
    "# df18 = pd.read_csv('test_dataset/test_dataset_8.csv')\n",
    "# df19 = pd.read_csv('test_dataset/test_dataset_9.csv')\n",
    "# df20 = pd.read_csv('test_dataset/test_dataset_10.csv')"
   ]
  },
  {
   "cell_type": "markdown",
   "metadata": {},
   "source": [
    "Create a column for the current class for all datasets"
   ]
  },
  {
   "cell_type": "code",
   "execution_count": 38,
   "metadata": {},
   "outputs": [],
   "source": [
    "df1['Class'] = '1'\n",
    "df2['Class'] = '2'\n",
    "df3['Class'] = '3'\n",
    "df4['Class'] = '4'\n",
    "df5['Class'] = '5'\n",
    "df6['Class'] = '6'\n",
    "df7['Class'] = '7'\n",
    "df8['Class'] = '8'\n",
    "df9['Class'] = '9'\n",
    "df10['Class'] = '10'"
   ]
  },
  {
   "cell_type": "code",
   "execution_count": null,
   "metadata": {},
   "outputs": [],
   "source": []
  }
 ],
 "metadata": {
  "kernelspec": {
   "display_name": "Python 3",
   "language": "python",
   "name": "python3"
  },
  "language_info": {
   "codemirror_mode": {
    "name": "ipython",
    "version": 3
   },
   "file_extension": ".py",
   "mimetype": "text/x-python",
   "name": "python",
   "nbconvert_exporter": "python",
   "pygments_lexer": "ipython3",
   "version": "3.8.3"
  }
 },
 "nbformat": 4,
 "nbformat_minor": 4
}
