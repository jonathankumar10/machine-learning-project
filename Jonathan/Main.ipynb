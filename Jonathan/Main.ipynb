{
 "cells": [
  {
   "cell_type": "code",
   "execution_count": 62,
   "metadata": {},
   "outputs": [],
   "source": [
    "import pandas as pd\n",
    "from pathlib import Path\n",
    "import os\n",
    "import shutil"
   ]
  },
  {
   "cell_type": "code",
   "execution_count": 95,
   "metadata": {},
   "outputs": [],
   "source": [
    "# arr = os.listdir(path)\n",
    "\n",
    "# list_of_reviews = []\n",
    "# for file in arr:\n",
    "#     filename, ext = file.split('.')\n",
    "# #     print(filename)\n",
    "#     list_of_reviews.append(filename)\n",
    "#     review_id, rating = filename.split('_')\n",
    "#     print(rating, review_id)"
   ]
  },
  {
   "cell_type": "markdown",
   "metadata": {},
   "source": [
    "Sorting the given raw training dataset into different folders based on the ratings given."
   ]
  },
  {
   "cell_type": "code",
   "execution_count": 90,
   "metadata": {},
   "outputs": [],
   "source": [
    "folder_name = ['1','2','3','4','5','6','7','8','9','10']\n",
    "path = 'C:/Users/jonat/Projects/Python/Machine_Learning_Project/Jonathan/train_dataset/'\n",
    "name = os.listdir(path)\n",
    "for x in range(0,10):\n",
    "    if not os.path.exists(path + folder_name[x]):\n",
    "        os.makedirs(path + folder_name[x])\n",
    "        \n",
    "for files in name:\n",
    "    if '_1.txt'in files and not os.path.exists(path +'1/' +files):\n",
    "        shutil.move(path+files, path +'1/' +files)\n",
    "    if '_2.txt'in files and not os.path.exists(path +'2/' +files):\n",
    "        shutil.move(path+files, path +'2/' +files)\n",
    "    if '_3.txt'in files and not os.path.exists(path +'3/' +files):\n",
    "        shutil.move(path+files, path +'3/' +files)\n",
    "    if '_4.txt'in files and not os.path.exists(path +'4/' +files):\n",
    "        shutil.move(path+files, path +'4/' +files)\n",
    "    if '_5.txt'in files and not os.path.exists(path +'5/' +files):\n",
    "        shutil.move(path+files, path +'5/' +files)\n",
    "    if '_6.txt'in files and not os.path.exists(path +'6/' +files):\n",
    "        shutil.move(path+files, path +'6/' +files)\n",
    "    if '_7.txt'in files and not os.path.exists(path +'7/' +files):\n",
    "        shutil.move(path+files, path +'7/' +files)\n",
    "    if '_8.txt'in files and not os.path.exists(path +'8/' +files):\n",
    "        shutil.move(path+files, path +'8/' +files)\n",
    "    if '_9.txt'in files and not os.path.exists(path +'9/' +files):\n",
    "        shutil.move(path+files, path +'9/' +files)\n",
    "    if '_10.txt'in files and not os.path.exists(path +'10/' +files):\n",
    "        shutil.move(path+files, path +'10/' +files)"
   ]
  },
  {
   "cell_type": "markdown",
   "metadata": {},
   "source": [
    "Sorting the given raw testing dataset into different folders based on the ratings given."
   ]
  },
  {
   "cell_type": "code",
   "execution_count": 93,
   "metadata": {},
   "outputs": [],
   "source": [
    "folder_name = ['1','2','3','4','5','6','7','8','9','10']\n",
    "path = 'C:/Users/jonat/Projects/Python/Machine_Learning_Project/Jonathan/test_dataset/'\n",
    "name = os.listdir(path)\n",
    "for x in range(0,10):\n",
    "    if not os.path.exists(path + folder_name[x]):\n",
    "        os.makedirs(path + folder_name[x])\n",
    "\n",
    "for files in name:\n",
    "    if '_1.txt'in files and not os.path.exists(path +'1/' +files):\n",
    "        shutil.move(path+files, path +'1/' +files)\n",
    "    if '_2.txt'in files and not os.path.exists(path +'2/' +files):\n",
    "        shutil.move(path+files, path +'2/' +files)\n",
    "    if '_3.txt'in files and not os.path.exists(path +'3/' +files):\n",
    "        shutil.move(path+files, path +'3/' +files)\n",
    "    if '_4.txt'in files and not os.path.exists(path +'4/' +files):\n",
    "        shutil.move(path+files, path +'4/' +files)\n",
    "    if '_5.txt'in files and not os.path.exists(path +'5/' +files):\n",
    "        shutil.move(path+files, path +'5/' +files)\n",
    "    if '_6.txt'in files and not os.path.exists(path +'6/' +files):\n",
    "        shutil.move(path+files, path +'6/' +files)\n",
    "    if '_7.txt'in files and not os.path.exists(path +'7/' +files):\n",
    "        shutil.move(path+files, path +'7/' +files)\n",
    "    if '_8.txt'in files and not os.path.exists(path +'8/' +files):\n",
    "        shutil.move(path+files, path +'8/' +files)\n",
    "    if '_9.txt'in files and not os.path.exists(path +'9/' +files):\n",
    "        shutil.move(path+files, path +'9/' +files)\n",
    "    if '_10.txt'in files and not os.path.exists(path +'10/' +files):\n",
    "        shutil.move(path+files, path +'10/' +files)"
   ]
  }
 ],
 "metadata": {
  "kernelspec": {
   "display_name": "Python 3",
   "language": "python",
   "name": "python3"
  },
  "language_info": {
   "codemirror_mode": {
    "name": "ipython",
    "version": 3
   },
   "file_extension": ".py",
   "mimetype": "text/x-python",
   "name": "python",
   "nbconvert_exporter": "python",
   "pygments_lexer": "ipython3",
   "version": "3.8.3"
  }
 },
 "nbformat": 4,
 "nbformat_minor": 4
}
